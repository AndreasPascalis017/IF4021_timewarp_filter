{
 "cells": [
  {
   "cell_type": "markdown",
   "metadata": {},
   "source": [
    "# Timewarp Filter\n",
    "    Deskripsi Proyek\n",
    "\n",
    "        Program ini adalah filter video berbasis waktu real-time menggunakan OpenCV. Efek utama dari filter ini adalah \"timewarp,\" di mana frame-frame video sebelumnya digabungkan dengan frame baru untuk menghasilkan ilusi distorsi waktu.\n",
    "\n",
    "# Fitur\n",
    "- Penggabungan Real-Time\n",
    "\n",
    "- Menggabungkan frame baru dan lama untuk menciptakan efek distorsi visual yang unik.\n",
    "Efek Garis Distorsi\n",
    "\n",
    "- Menampilkan garis hijau bergerak yang menandai bagian distorsi aktif pada frame.\n",
    "Penyimpanan Output\n",
    "\n",
    "- Menyimpan hasil efek ke dalam file gambar dengan format .png.\n",
    "\n",
    "# Cara Penggunaan\n",
    "- Jalankan kode dengan Python.\n",
    "- Program akan menggunakan kamera default (index 0).\n",
    "- Tekan tombol ESC untuk keluar dari program.\n",
    "- Output akan disimpan dalam file bernama timewarp_output.png.\n",
    "\n",
    "# Konfigurasi\n",
    "- Threshold\n",
    "Parameter ini menentukan jumlah baris piksel yang diproses setiap iterasi. Nilai defaultnya adalah 2. Semakin tinggi nilainya, semakin cepat garis distorsi bergerak.\n",
    "\n",
    "- Mode Vertical Flip\n",
    "Filter dapat membalikkan frame secara vertikal berdasarkan parameter is_upside_down.\n",
    "\n",
    "# Penjelasan Alur Program\n",
    "\n",
    "- Inisialisasi Kamera\n",
    "    - Program menggunakan OpenCV untuk mengakses kamera default. Jika kamera tidak tersedia, program akan menampilkan pesan error dan berhenti.\n",
    "\n",
    "- Baca Frame Pertama\n",
    "    - Frame pertama dari kamera disalin ke dalam variabel warped_frame dan temp_frame sebagai basis untuk efek timewarp.\n",
    "\n",
    "- Pemrosesan Frame Real-Time\n",
    "    - Setiap frame baru digabungkan secara vertikal dengan frame sebelumnya menggunakan mekanisme timewarp.\n",
    "    - Sebuah garis hijau ditambahkan di lokasi aktif distorsi, menunjukkan area yang sedang diproses.\n",
    "\n",
    "- Penghentian Program\n",
    "    -Pengguna dapat menghentikan program dengan menekan tombol ESC atau ketika garis distorsi mencapai bagian bawah frame.\n",
    "\n",
    "- Simpan Output\n",
    "    - Frame terakhir yang terdistorsi akan disimpan dalam file gambar timewarp_output.png.\n",
    "\n",
    "- Library yang Digunakan\n",
    "    - OpenCV (cv2)\n",
    "    \n",
    "        Untuk menangkap video dari kamera, memproses frame, menambahkan garis distorsi, dan menyimpan gambar hasil.\n",
    "\n",
    "# Struktur Kode\n",
    "\n",
    "- Fungsi Utama: capture_video()\n",
    "\n",
    "    Mengelola seluruh proses pengambilan dan pemrosesan frame.\n",
    "\n",
    "- Logika Filter Timewarp\n",
    "\n",
    "    Menggabungkan frame-frame sebelumnya dan baru berdasarkan parameter threshold.\n",
    "\n",
    "- Penyimpanan Output\n",
    "\n",
    "    Menyimpan hasil akhir efek ke dalam file."
   ]
  },
  {
   "cell_type": "markdown",
   "metadata": {},
   "source": [
    "# Library"
   ]
  },
  {
   "cell_type": "code",
   "execution_count": 4,
   "metadata": {},
   "outputs": [],
   "source": [
    "import cv2 "
   ]
  },
  {
   "cell_type": "markdown",
   "metadata": {},
   "source": [
    "# 1. Fungsi Utama\n",
    "\n",
    "Kode utama untuk mengatur alur logika keseluruhan filter timewarp."
   ]
  },
  {
   "cell_type": "code",
   "execution_count": null,
   "metadata": {},
   "outputs": [],
   "source": [
    "    threshold = 2  # Jumlah iterasi pixel persatuan waktu. makin tinggi maka garis distorsi akan semakin cepat.\n",
    "    is_upside_down = False  # fungsi ini digunakan untuk membalik pixel vertikal\n",
    "\n",
    "    ret, initial_frame = cap.read()\n",
    "    if not ret:\n",
    "        print(\"Error: Frame tidak dapat dibaca.\")\n",
    "        cap.release()\n",
    "        return # di cek keberhasilannya semisal gagal maka pesan di atas akan keluar.\n",
    "\n",
    "    warped_frame = initial_frame.copy() # salinan dari frame yang berhasil disimpan\n",
    "    temp_frame = initial_frame.copy() # kemudian disimpan sementara di sini.\n",
    "    current_row = 0 # indeks awal\n"
   ]
  },
  {
   "cell_type": "markdown",
   "metadata": {},
   "source": [
    "# 2. Inisialisasi Parameter\n",
    "\n",
    "Bagian untuk mendefinisikan konfigurasi awal seperti threshold, is_upside_down, dan frame awal."
   ]
  },
  {
   "cell_type": "code",
   "execution_count": null,
   "metadata": {},
   "outputs": [],
   "source": [
    "    threshold = 2  # Jumlah iterasi pixel persatuan waktu. makin tinggi maka garis distorsi akan semakin cepat.\n",
    "    is_upside_down = False  # fungsi ini digunakan untuk membalik pixel vertikal\n",
    "\n",
    "    ret, initial_frame = cap.read()\n",
    "    if not ret:\n",
    "        print(\"Error: Frame tidak dapat dibaca.\")\n",
    "        cap.release()\n",
    "        return # di cek keberhasilannya semisal gagal maka pesan di atas akan keluar.\n",
    "\n",
    "    warped_frame = initial_frame.copy() # salinan dari frame yang berhasil disimpan\n",
    "    temp_frame = initial_frame.copy() # kemudian disimpan sementara di sini.\n",
    "    current_row = 0 # indeks awal\n"
   ]
  },
  {
   "cell_type": "markdown",
   "metadata": {},
   "source": [
    "# 3. Pemrosesan Frame Real-Time\n",
    "\n",
    "Logika inti untuk membaca frame baru, menggabungkannya dengan frame lama, dan menghasilkan efek timewarp."
   ]
  },
  {
   "cell_type": "code",
   "execution_count": null,
   "metadata": {},
   "outputs": [],
   "source": [
    "    while True:\n",
    "        ret, frame = cap.read()\n",
    "        if not ret:\n",
    "            print(\"Gagal membaca frame dari kamera.\")\n",
    "            break\n",
    "\n",
    "        frame = cv2.flip(frame, int(not is_upside_down))\n",
    "\n",
    "        # fungsi ini digunakan untuk menggabungkan bagian frame yang baru dan lama kedalam efek timewarp\n",
    "        temp_frame[current_row:current_row + threshold] = frame[current_row:current_row + threshold]\n",
    "        warped_frame[:current_row] = temp_frame[:current_row]\n",
    "        warped_frame[current_row:] = frame[current_row:]\n",
    "\n",
    "        # fungsi untuk membuat garis hijau penanda distorsi\n",
    "        cv2.line(warped_frame, (0, current_row), (warped_frame.shape[1], current_row), (0, 255, 0), thickness=2)\n",
    "\n",
    "        current_row += threshold\n",
    "\n",
    "        # tampilkan video\n",
    "        cv2.imshow('Timewarp Filter', warped_frame)\n",
    "\n",
    "        # memberhentikan proses semisal tombol esc ditekan (27 adalah ASCII untuk esc)\n",
    "        if cv2.waitKey(33) == 27 or current_row >= frame.shape[0]:\n",
    "            break"
   ]
  },
  {
   "cell_type": "markdown",
   "metadata": {},
   "source": [
    "# 4. Penyimpanan Output\n",
    "\n",
    "Kode untuk menyimpan frame terakhir dengan efek timewarp ke file gambar."
   ]
  },
  {
   "cell_type": "code",
   "execution_count": null,
   "metadata": {},
   "outputs": [],
   "source": [
    "    output_filename = 'timewarp_output.png'\n",
    "    cv2.imwrite(output_filename, warped_frame)\n",
    "    print(f\"Timewarp filter berhasil disimpan sebagai '{output_filename}'.\")"
   ]
  },
  {
   "cell_type": "markdown",
   "metadata": {},
   "source": [
    "# 5. Cleanup\n",
    "\n",
    "Menutup akses kamera dan jendela OpenCV setelah program selesai."
   ]
  },
  {
   "cell_type": "code",
   "execution_count": null,
   "metadata": {},
   "outputs": [],
   "source": [
    "    cap.release()\n",
    "    cv2.destroyAllWindows()"
   ]
  },
  {
   "cell_type": "markdown",
   "metadata": {},
   "source": [
    "# RUN PRGORAM DIBAWAH"
   ]
  },
  {
   "cell_type": "code",
   "execution_count": 1,
   "metadata": {},
   "outputs": [
    {
     "name": "stdout",
     "output_type": "stream",
     "text": [
      "Frame dimensions: (480, 640, 3)\n",
      "Timewarp filter berhasil disimpan sebagai 'timewarp_output.png'.\n"
     ]
    }
   ],
   "source": [
    "# Kita import library yang digunakan\n",
    "import cv2 \n",
    "\n",
    "def capture_video(): #fungsi utama untuk mengaplikasikan filter\n",
    "    # digunakan untuk membuka kamera (webcam)\n",
    "    cap = cv2.VideoCapture(0)\n",
    "    if not cap.isOpened():\n",
    "        print(\"Tidak bisa membuka camera. Coba lagi\")\n",
    "        return\n",
    "\n",
    "    # pengaturan time warp \n",
    "    threshold = 2  # Jumlah iterasi pixel persatuan waktu. makin tinggi maka garis distorsi akan semakin cepat.\n",
    "    is_upside_down = False  # fungsi ini digunakan untuk membalik pixel vertikal\n",
    "\n",
    "    # Kita baca frame pertama\n",
    "    ret, initial_frame = cap.read()\n",
    "    if not ret:\n",
    "        print(\"Error: Frame tidak dapat dibaca.\")\n",
    "        cap.release()\n",
    "        return # di cek keberhasilannya semisal gagal maka pesan di atas akan keluar.\n",
    "\n",
    "    warped_frame = initial_frame.copy() # salinan dari frame yang berhasil disimpan\n",
    "    temp_frame = initial_frame.copy() # kemudian disimpan sementara di sini.\n",
    "    current_row = 0 # indeks awal\n",
    "\n",
    "    print(f\"Frame dimensions: {initial_frame.shape}\")\n",
    "\n",
    "    while True:\n",
    "        ret, frame = cap.read()\n",
    "        if not ret:\n",
    "            print(\"Gagal membaca frame dari kamera.\")\n",
    "            break\n",
    "\n",
    "        frame = cv2.flip(frame, int(not is_upside_down))\n",
    "\n",
    "        # fungsi ini digunakan untuk menggabungkan bagian frame yang baru dan lama kedalam efek timewarp\n",
    "        temp_frame[current_row:current_row + threshold] = frame[current_row:current_row + threshold]\n",
    "        warped_frame[:current_row] = temp_frame[:current_row]\n",
    "        warped_frame[current_row:] = frame[current_row:]\n",
    "\n",
    "        # fungsi untuk membuat garis hijau peanda distorsi\n",
    "        cv2.line(warped_frame, (0, current_row), (warped_frame.shape[1], current_row), (0, 255, 0), thickness=2)\n",
    "\n",
    "        current_row += threshold\n",
    "\n",
    "        # tampilkan video\n",
    "        cv2.imshow('Timewarp Filter', warped_frame)\n",
    "\n",
    "        # memberhentikan proses semisal tombol esc ditekan (27 adalah ASCII untuk esc)\n",
    "        if cv2.waitKey(33) == 27 or current_row >= frame.shape[0]:\n",
    "            break\n",
    "\n",
    "    # kita simpan dalam bentuk file gambar\n",
    "    output_filename = 'timewarp_output.png'\n",
    "    cv2.imwrite(output_filename, warped_frame)\n",
    "    print(f\"Timewarp filter berhasil disimpan sebagai '{output_filename}'.\")\n",
    "\n",
    "    cap.release()\n",
    "    cv2.destroyAllWindows()\n",
    "\n",
    "# Jalankan filter\n",
    "if __name__ == \"__main__\":\n",
    "    capture_video()"
   ]
  },
  {
   "cell_type": "markdown",
   "metadata": {},
   "source": [
    "# Catatan Tambahan untuk Jupyter Notebook\n",
    "- Izin Webcam: Jupyter mungkin memerlukan izin khusus untuk mengakses webcam. Pastikan Anda menjalankan notebook di perangkat dengan webcam yang berfungsi.\n",
    "- Penghentian Proses: Tekan tombol ESC untuk keluar dari jendela OpenCV.\n",
    "- Output Gambar: Hasilnya akan disimpan di direktori kerja Jupyter dengan nama timewarp_output.png."
   ]
  }
 ],
 "metadata": {
  "kernelspec": {
   "display_name": "py310_multimedia",
   "language": "python",
   "name": "python3"
  },
  "language_info": {
   "codemirror_mode": {
    "name": "ipython",
    "version": 3
   },
   "file_extension": ".py",
   "mimetype": "text/x-python",
   "name": "python",
   "nbconvert_exporter": "python",
   "pygments_lexer": "ipython3",
   "version": "3.10.15"
  }
 },
 "nbformat": 4,
 "nbformat_minor": 2
}
